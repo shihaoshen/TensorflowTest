{
  "nbformat": 4,
  "nbformat_minor": 0,
  "metadata": {
    "colab": {
      "name": "Copy of Linear_Mixed_Effects_Model_Variational_Inference.ipynb",
      "version": "0.3.2",
      "provenance": [],
      "collapsed_sections": [],
      "include_colab_link": true
    }
  },
  "cells": [
    {
      "cell_type": "markdown",
      "metadata": {
        "id": "view-in-github",
        "colab_type": "text"
      },
      "source": [
        "<a href=\"https://colab.research.google.com/github/shihaoshen/TensorflowTest/blob/master/Linear_Mixed_Effects_Model_Variational_Inference_SSTest.ipynb\" target=\"_parent\"><img src=\"https://colab.research.google.com/assets/colab-badge.svg\" alt=\"Open In Colab\"/></a>"
      ]
    },
    {
      "metadata": {
        "colab_type": "text",
        "id": "u3Zq5VrfiDqB"
      },
      "cell_type": "markdown",
      "source": [
        "##### Copyright 2018 The TensorFlow Authors.\n",
        "\n",
        "Licensed under the Apache License, Version 2.0 (the \"License\");"
      ]
    },
    {
      "metadata": {
        "colab_type": "code",
        "id": "3jTEqPzFiHQ0",
        "colab": {}
      },
      "cell_type": "code",
      "source": [
        "#@title Licensed under the Apache License, Version 2.0 (the \"License\"); { display-mode: \"form\" }\n",
        "# you may not use this file except in compliance with the License.\n",
        "# You may obtain a copy of the License at\n",
        "#\n",
        "# https://www.apache.org/licenses/LICENSE-2.0\n",
        "#\n",
        "# Unless required by applicable law or agreed to in writing, software\n",
        "# distributed under the License is distributed on an \"AS IS\" BASIS,\n",
        "# WITHOUT WARRANTIES OR CONDITIONS OF ANY KIND, either express or implied.\n",
        "# See the License for the specific language governing permissions and\n",
        "# limitations under the License."
      ],
      "execution_count": 0,
      "outputs": []
    },
    {
      "metadata": {
        "colab_type": "text",
        "id": "x97n3SaNmNpB"
      },
      "cell_type": "markdown",
      "source": [
        "# Fitting Generalized Linear Mixed-effects Models Using Variational Inference\n",
        "\n",
        "<table class=\"tfo-notebook-buttons\" align=\"left\">\n",
        "  <td>\n",
        "    <a target=\"_blank\" href=\"https://colab.research.google.com/github/tensorflow/probability/blob/master/tensorflow_probability/examples/jupyter_notebooks/Linear_Mixed_Effects_Model_Variational_Inference.ipynb\"><img src=\"https://www.tensorflow.org/images/colab_logo_32px.png\" />Run in Google Colab</a>\n",
        "  </td>\n",
        "  <td>\n",
        "    <a target=\"_blank\" href=\"https://github.com/tensorflow/probability/blob/master/tensorflow_probability/examples/jupyter_notebooks/Linear_Mixed_Effects_Model_Variational_Inference.ipynb\"><img src=\"https://www.tensorflow.org/images/GitHub-Mark-32px.png\" />View source on GitHub</a>\n",
        "  </td>\n",
        "</table>"
      ]
    },
    {
      "metadata": {
        "colab_type": "text",
        "id": "0GVst7yy6Aww"
      },
      "cell_type": "markdown",
      "source": [
        "## Abstract\n"
      ]
    },
    {
      "metadata": {
        "colab_type": "text",
        "id": "Lt4RS9whJhQh"
      },
      "cell_type": "markdown",
      "source": [
        "\n",
        "In this colab we demonstrate how to fit a Generalized Linear Mixed-effects Model using Variational Inference and TensorFlow.\n"
      ]
    },
    {
      "metadata": {
        "colab_type": "text",
        "id": "0-lfIBVAzi7D"
      },
      "cell_type": "markdown",
      "source": [
        "## Model Family"
      ]
    },
    {
      "metadata": {
        "colab_type": "text",
        "id": "ljSRsKrXwqb6"
      },
      "cell_type": "markdown",
      "source": [
        "[Generalized linear mixed-effect models](https://en.wikipedia.org/wiki/Generalized_linear_mixed_model) (GLMM) are similar to [generalized linear models](https://en.wikipedia.org/wiki/Generalized_linear_model) (GLM) except that they incorporate a sample specific noise into the predicted linear response.  This is useful in part because it allows rarely seen features to share information with more commonly seen features.\n",
        "\n"
      ]
    },
    {
      "metadata": {
        "colab_type": "text",
        "id": "H-B38entvltq"
      },
      "cell_type": "markdown",
      "source": [
        "As a generative process, a Generalized Linear Mixed-effects Model (GLMM) is characterized by:\n",
        "\n",
        "\\begin{align}\n",
        "\\text{for } & r = 1\\ldots R:  \\hspace{2.45cm}\\text{# for each random-effect group}\\\\\n",
        " &\\begin{aligned}\n",
        "  \\text{for } &c = 1\\ldots |C_r|:  \\hspace{1.3cm}\\text{# for each category (\"level\") of group $r$}\\\\\n",
        "  &\\begin{aligned}\n",
        "    \\beta_{rc}\n",
        "    &\\sim \\text{MultivariateNormal}(\\text{loc}=0_{D_r}, \\text{scale}=\\Sigma_r^{1/2})\n",
        "  \\end{aligned}\n",
        "\\end{aligned}\\\\\\\\\n",
        "\\text{for } & i = 1 \\ldots N:  \\hspace{2.45cm}\\text{# for each sample}\\\\\n",
        "&\\begin{aligned}\n",
        "  &\\eta_i = \\underbrace{\\vphantom{\\sum_{r=1}^R}x_i^\\top\\omega}_\\text{fixed-effects} + \\underbrace{\\sum_{r=1}^R z_{r,i}^\\top \\beta_{r,C_r(i) }}_\\text{random-effects} \\\\\n",
        "  &Y_i|x_i,\\omega,\\{z_{r,i} , \\beta_r\\}_{r=1}^R \\sim \\text{Distribution}(\\text{mean}= g^{-1}(\\eta_i))\n",
        "\\end{aligned}\n",
        "\\end{align}\n"
      ]
    },
    {
      "metadata": {
        "colab_type": "text",
        "id": "3gZmFJXAHwfy"
      },
      "cell_type": "markdown",
      "source": [
        "where:\n",
        "\n",
        "\\begin{align}\n",
        "R &= \\text{number of random-effect groups}\\\\\n",
        "|C_r| &= \\text{number of categories for group $r$}\\\\\n",
        "N &= \\text{number of training samples}\\\\\n",
        "x_i,\\omega &\\in \\mathbb{R}^{D_0}\\\\\n",
        "D_0 &= \\text{number of fixed-effects}\\\\\n",
        "C_r(i) &= \\text{category (under group $r$) of the $i$th sample}\\\\\n",
        "z_{r,i} &\\in \\mathbb{R}^{D_r}\\\\\n",
        "D_r &= \\text{number of random-effects associated with group $r$}\\\\\n",
        "\\Sigma_{r} &\\in \\{S\\in\\mathbb{R}^{D_r \\times D_r} : S \\succ 0 \\}\\\\\n",
        "\\eta_i\\mapsto g^{-1}(\\eta_i) &= \\mu_i, \\text{inverse link function}\\\\\n",
        "\\text{Distribution} &=\\text{some distribution parameterizable solely by its mean}\n",
        "\\end{align}"
      ]
    },
    {
      "metadata": {
        "colab_type": "text",
        "id": "5AYonR45P1Hr"
      },
      "cell_type": "markdown",
      "source": [
        "In words, this says that every category of each group is associated with an iid MVN, $\\beta_{rc}$. Although the $\\beta_{rc}$ draws are always independent, they are only indentically distributed for a group $r$; notice there is exactly one $\\Sigma_r$ for each $r\\in\\{1,\\ldots,R\\}$.\n",
        "\n",
        "When affinely combined with a sample's group's features ($z_{r,i}$), the result is sample-specific noise on the $i$-th predicted linear response (which is otherwise $x_i^\\top\\omega$)."
      ]
    },
    {
      "metadata": {
        "colab_type": "text",
        "id": "__dP1MdYKda0"
      },
      "cell_type": "markdown",
      "source": [
        "When we estimate $\\{\\Sigma_r:r\\in\\{1,\\ldots,R\\}\\}$ we're essentially estimating the amount of noise a random-effect group carries which would otherwise drown out the signal present in $x_i^\\top\\omega$."
      ]
    },
    {
      "metadata": {
        "colab_type": "text",
        "id": "0EZXZzlYSbM7"
      },
      "cell_type": "markdown",
      "source": [
        "There are a variety of options for the $\\text{Distribution}$ and [inverse link function](https://en.wikipedia.org/wiki/Generalized_linear_model#Link_function), $g^{-1}$. Common choices are:\n",
        "- $Y_i\\sim\\text{Normal}(\\text{mean}=\\eta_i, \\text{scale}=\\sigma)$,\n",
        "- $Y_i\\sim\\text{Binomial}(\\text{mean}=n_i \\cdot \\text{sigmoid}(\\eta_i), \\text{total_count}=n_i)$, and, \n",
        "- $Y_i\\sim\\text{Poisson}(\\text{mean}=\\exp(\\eta_i))$.\n",
        "\n",
        "For more possibilities, see the [`tfp.glm`](https://github.com/tensorflow/probability/tree/master/tensorflow_probability/python/glm) module."
      ]
    },
    {
      "metadata": {
        "colab_type": "text",
        "id": "XajrojApx5cR"
      },
      "cell_type": "markdown",
      "source": [
        "## Variational Inference"
      ]
    },
    {
      "metadata": {
        "colab_type": "text",
        "id": "fIQn1mlYAUzx"
      },
      "cell_type": "markdown",
      "source": [
        "Unfortunately, finding the maximum likelihood estimates of the parameters $\\beta,\\{\\Sigma_r\\}_r^R$ entails a non-analytical integral. To circumvent this problem, we instead find the parameters which minimize an upper bound.  Writing $\\phi(x)=\\exp(-x^2/2)/\\sqrt{2\\pi}$ we find:"
      ]
    },
    {
      "metadata": {
        "colab_type": "text",
        "id": "9epWkJw0x8hw"
      },
      "cell_type": "markdown",
      "source": [
        "$\\begin{align}\n",
        "-\\log \\overbrace{p(\\{y\\}_i^N|\\{x_i,z_i\\}_i^N,\\beta,\\{\\Sigma_r\\}_r^R)}^{\\text{evidence}}\n",
        "& = -\\log \\int_{\\mathbb{R}^{\\sum_r |C_r|D_r}} \\overbrace{\\left(\\prod_i^N p(y_i | \\eta_i(u)) \\right)}^{\\text{likelihood}} \\overbrace{\\left(\\prod_r^R |\\Sigma_r^{-1/2}| \\prod_c^{|C_r|} \\phi(\\Sigma_r^{-1/2} u_{rc}) \\right)}^{\\text{prior}} \\, du\\\\\n",
        "& = -\\log \\int_{\\mathbb{R}^{\\sum_r |C_r|D_r}} \\frac{\n",
        "  q_\\lambda(u|\\{x_i,y_i,z_i\\}_i^N,\\beta,\\{\\Sigma_r\\}_r^R)\n",
        " }{\n",
        "  q_\\lambda(u|\\{x_i,y_i,z_i\\}_i^N,\\beta,\\{\\Sigma_r\\}_r^R)} \\left( \\prod_i^N p(y_i | \\eta_i(u)) \\right) \\left(\\prod_r^R |\\Sigma_r^{-1/2}| \\prod_c^{|C_r|} \\phi(\\Sigma_r^{-1/2} u_{rc}) \\right) \\, du\\\\\n",
        "& \\le \\text{E}_{q_\\lambda(U|\\{x_i,y_i,z_i\\}_i^N,\\beta,\\{\\Sigma_r\\}_r^R)} \\left[ -\\log\n",
        "\\frac{\n",
        "  \\left( \\prod_i^N p(y_i | \\eta_i(U)) \\right) \\left(\\prod_r^R |\\Sigma_r^{-1/2}| \\prod_c^{|C_r|} \\phi(\\Sigma_r^{-1/2} U_{rc}) \\right)\n",
        "  }{\n",
        "    q_\\lambda(U|\\{x_i,y_i,z_i\\}_i^N,\\beta,\\{\\Sigma_r\\}_r^R)\n",
        "  }  \\right]\\\\\n",
        "&= \\text{KL}\\left[q_\\lambda(U|\\{x_i,y_i,z_i\\}_i^N,\\beta,\\{\\Sigma_r\\}_r^R) \\Bigg| \\left( \\prod_i^N p(y_i | \\eta_i(U)) \\right) \\left(\\prod_r^R |\\Sigma_r^{-1/2}| \\prod_c^{|C_r|} \\phi(\\Sigma_r^{-1/2} U_{rc}) \\right) \\right]\n",
        "\\end{align}$"
      ]
    },
    {
      "metadata": {
        "colab_type": "text",
        "id": "ecNUsIBQN-zz"
      },
      "cell_type": "markdown",
      "source": [
        "The inequality follows from [Jensen's Inequality](https://en.wikipedia.org/wiki/Jensen%27s_inequality)."
      ]
    },
    {
      "metadata": {
        "colab_type": "text",
        "id": "GCDXHiEx-dY5"
      },
      "cell_type": "markdown",
      "source": [
        "So, instead of solving:\n",
        "\n",
        "$$\\begin{align}\n",
        "\\{\\beta^*, \\{\\Sigma_r^*\\}_r^R\\} = \\operatorname{\\arg\\min}_{\\beta,\\{\\Sigma_r\\}_r^R} \\left\\{\n",
        " -\\log  p(\\{y\\}_i^N|\\{x_i,z_i\\}_i^N,\\beta,\\{\\Sigma_r\\}_r^R)\n",
        "\\right\\}\n",
        "\\end{align}$$\n",
        "\n",
        "we solve:\n",
        "\n",
        "$$\\begin{align}\n",
        "\\{\\lambda^*, \\beta^*, \\{\\Sigma_r^*\\}_r^R\\} = \\operatorname{\\arg\\min}_{\\lambda,\\beta,\\{\\Sigma_r\\}_r^R} \\left\\{\n",
        "\\text{KL}\\left[q_\\lambda(U|\\{x_i,y_i,z_i\\}_i^N,\\beta,\\{\\Sigma_r\\}_r^R) \\Bigg| \\left( \\prod_i^N p(y_i | \\eta_i(U)) \\right) \\left(\\prod_r^R |\\Sigma_r^{-1/2}| \\prod_c^{|C_r|} \\phi(\\Sigma_r^{-1/2} U_{rc}) \\right) \\right]\n",
        "\\right\\}\n",
        "\\end{align}$$"
      ]
    },
    {
      "metadata": {
        "colab_type": "text",
        "id": "Nu8B7ylx3UdL"
      },
      "cell_type": "markdown",
      "source": [
        "## Toy Problem"
      ]
    },
    {
      "metadata": {
        "colab_type": "text",
        "id": "vDmAfghTJcLo"
      },
      "cell_type": "markdown",
      "source": [
        "[Gelman et al.'s (2007) \"radon dataset\"](http://www.stat.columbia.edu/~gelman/arm/) is a dataset sometimes used to demonstrate approaches for regression. (E.g., this closely related [PyMC3 blog post](http://twiecki.github.io/blog/2014/03/17/bayesian-glms-3/).) The radon dataset contains indoor measurements of Radon taken throughout the United States. [Radon](https://en.wikipedia.org/wiki/Radon) is naturally ocurring radioactive gas which is [toxic](http://www.radon.com/radon_facts/) in high concentrations.\n",
        "\n",
        "For our demonstration, let's suppose we're interested in validating the hypothesis that Radon levels are higher in households containing a basement. We also suspect Radon concentration is related to soil-type, i.e., geography matters.\n",
        "\n",
        "To frame this as an ML problem, we'll try to predict log-radon levels based on a linear function of the floor on which the reading was taken.  We'll also use the county as a random-effect and in so doing account for variances due to geography. In other words, we'll use a [generalized linear mixed-effect model](https://en.wikipedia.org/wiki/Generalized_linear_mixed_model)."
      ]
    },
    {
      "metadata": {
        "id": "ht5yNGWOMEPC",
        "colab_type": "code",
        "outputId": "ffb6e8f2-4828-468d-8d1e-e58f4876a123",
        "colab": {
          "base_uri": "https://localhost:8080/",
          "height": 68
        }
      },
      "cell_type": "code",
      "source": [
        "!pip install --upgrade tensorflow-probability\n"
      ],
      "execution_count": 2,
      "outputs": [
        {
          "output_type": "stream",
          "text": [
            "Requirement already up-to-date: tensorflow-probability in /usr/local/lib/python2.7/dist-packages (0.5.0)\n",
            "Requirement already satisfied, skipping upgrade: six>=1.10.0 in /usr/local/lib/python2.7/dist-packages (from tensorflow-probability) (1.11.0)\n",
            "Requirement already satisfied, skipping upgrade: numpy>=1.13.3 in /usr/local/lib/python2.7/dist-packages (from tensorflow-probability) (1.14.6)\n"
          ],
          "name": "stdout"
        }
      ]
    },
    {
      "metadata": {
        "colab_type": "code",
        "id": "_zr34b0IBqgY",
        "colab": {}
      },
      "cell_type": "code",
      "source": [
        "%matplotlib inline\n",
        "\n",
        "from __future__ import absolute_import\n",
        "from __future__ import division\n",
        "from __future__ import print_function\n",
        "\n",
        "from pprint import pprint\n",
        "import collections\n",
        "import matplotlib.pyplot as plt; plt.style.use('ggplot')\n",
        "import numpy as np\n",
        "import pandas as pd\n",
        "import seaborn as sns; sns.set_context('notebook')\n",
        "import tensorflow as tf\n",
        "import warnings\n",
        "import os\n",
        "from scipy.stats import norm"
      ],
      "execution_count": 0,
      "outputs": []
    },
    {
      "metadata": {
        "colab_type": "text",
        "id": "UzepxbtrpHpD"
      },
      "cell_type": "markdown",
      "source": [
        "### Obtain Dataset:"
      ]
    },
    {
      "metadata": {
        "colab_type": "code",
        "id": "Z5aSvBj8v_vp",
        "colab": {}
      },
      "cell_type": "code",
      "source": [
        "from six.moves import urllib\n",
        "CACHE_DIR = os.path.join(os.sep, 'tmp', 'radon')\n",
        "\n",
        "def cache_or_download_file(cache_dir, url_base, filename):\n",
        "  \"\"\"Read a cached file or download it.\"\"\"\n",
        "  filepath = os.path.join(cache_dir, filename)\n",
        "  if tf.gfile.Exists(filepath):\n",
        "    return filepath\n",
        "  if not tf.gfile.Exists(cache_dir):\n",
        "    tf.gfile.MakeDirs(cache_dir)\n",
        "  url = os.path.join(url_base, filename)\n",
        "  print(\"Downloading {url} to {filepath}.\".format(url=url, filepath=filepath))\n",
        "  urllib.request.urlretrieve(url, filepath)\n",
        "  return filepath\n",
        "\n",
        "\n",
        "def download_radon_dataset(cache_dir=CACHE_DIR):\n",
        "  \"\"\"Download the radon dataset and read as Pandas dataframe.\"\"\"\n",
        "  url_base = 'http://www.stat.columbia.edu/~gelman/arm/examples/radon/'\n",
        "  # Alternative source:\n",
        "  # url_base = ('https://raw.githubusercontent.com/pymc-devs/uq_chapter/'\n",
        "  #             'master/reference/data/')\n",
        "  srrs2 = pd.read_csv(cache_or_download_file(cache_dir, url_base, 'srrs2.dat'))\n",
        "  srrs2.rename(columns=str.strip, inplace=True)\n",
        "  cty = pd.read_csv(cache_or_download_file(cache_dir, url_base, 'cty.dat'))\n",
        "  cty.rename(columns=str.strip, inplace=True)\n",
        "  return srrs2, cty\n",
        "\n",
        "\n",
        "def preprocess_radon_dataset(srrs2, cty, state='MN'):\n",
        "  \"\"\"Preprocess radon dataset as done in \"Bayesian Data Analysis\" book.\"\"\"\n",
        "  srrs2 = srrs2[srrs2.state==state].copy()\n",
        "  cty = cty[cty.st==state].copy()\n",
        "  \n",
        "  # We will now join datasets on Federal Information Processing Standards\n",
        "  # (FIPS) id, ie, codes that link geographic units, counties and county\n",
        "  # equivalents. http://jeffgill.org/Teaching/rpqm_9.pdf\n",
        "  srrs2['fips'] = 1000 * srrs2.stfips + srrs2.cntyfips\n",
        "  cty['fips'] = 1000 * cty.stfips + cty.ctfips\n",
        "\n",
        "  df = srrs2.merge(cty[['fips', 'Uppm']], on='fips')\n",
        "  df = df.drop_duplicates(subset='idnum')\n",
        "  df = df.rename(index=str, columns={'Uppm': 'uranium_ppm'})\n",
        "  \n",
        "  df['radon'] = df.activity.apply(lambda x: x if x > 0. else 0.1)\n",
        "  \n",
        "  # Remap categories to start from 0 and end at max(category).\n",
        "  county_name = sorted(df.county.unique())\n",
        "  df['county'] = df.county.astype(\n",
        "      pd.api.types.CategoricalDtype(categories=county_name)).cat.codes\n",
        "  county_name = map(str.strip, county_name)\n",
        "  \n",
        "  df['log_radon'] = df['radon'].apply(np.log)\n",
        "  df['log_uranium_ppm'] = df['uranium_ppm'].apply(np.log) \n",
        "  df = df[['log_radon', 'floor', 'county', 'log_uranium_ppm']]\n",
        " \n",
        "  return df, county_name"
      ],
      "execution_count": 0,
      "outputs": []
    },
    {
      "metadata": {
        "colab_type": "code",
        "id": "DLn6q9fSNizw",
        "outputId": "7c818c68-db85-4946-f4a1-846189f1745d",
        "colab": {
          "base_uri": "https://localhost:8080/",
          "height": 51
        }
      },
      "cell_type": "code",
      "source": [
        "df, counties = preprocess_radon_dataset(*download_radon_dataset())"
      ],
      "execution_count": 5,
      "outputs": [
        {
          "output_type": "stream",
          "text": [
            "Downloading http://www.stat.columbia.edu/~gelman/arm/examples/radon/srrs2.dat to /tmp/radon/srrs2.dat.\n",
            "Downloading http://www.stat.columbia.edu/~gelman/arm/examples/radon/cty.dat to /tmp/radon/cty.dat.\n"
          ],
          "name": "stdout"
        }
      ]
    },
    {
      "metadata": {
        "id": "2rQFiLnvAhm3",
        "colab_type": "code",
        "outputId": "0f9160dc-1872-455a-b69f-7dd2c66d9b08",
        "colab": {
          "base_uri": "https://localhost:8080/",
          "height": 34
        }
      },
      "cell_type": "code",
      "source": [
        "type(df)\n"
      ],
      "execution_count": 6,
      "outputs": [
        {
          "output_type": "execute_result",
          "data": {
            "text/plain": [
              "pandas.core.frame.DataFrame"
            ]
          },
          "metadata": {
            "tags": []
          },
          "execution_count": 6
        }
      ]
    },
    {
      "metadata": {
        "id": "SrJ_QEE1a8zt",
        "colab_type": "code",
        "outputId": "8635977f-865c-4580-e043-aa435a465e81",
        "colab": {
          "base_uri": "https://localhost:8080/",
          "height": 102
        }
      },
      "cell_type": "code",
      "source": [
        "np.random.seed(1234)\n",
        "#add another variable for test\n",
        "df['log_u2'] = df['log_uranium_ppm']+norm.rvs(size=len(df['log_uranium_ppm']))\n",
        "df['floor2'] = np.array(df['floor']+np.rint(0.5*norm.rvs(size=len(df['log_uranium_ppm']))))\n",
        "df['floor3']=df['floor']\n",
        "df['log_uranium_ppm'][0]=-2"
      ],
      "execution_count": 7,
      "outputs": [
        {
          "output_type": "stream",
          "text": [
            "/usr/local/lib/python2.7/dist-packages/ipykernel_launcher.py:6: SettingWithCopyWarning: \n",
            "A value is trying to be set on a copy of a slice from a DataFrame\n",
            "\n",
            "See the caveats in the documentation: http://pandas.pydata.org/pandas-docs/stable/indexing.html#indexing-view-versus-copy\n",
            "  \n"
          ],
          "name": "stderr"
        }
      ]
    },
    {
      "metadata": {
        "colab_type": "code",
        "id": "5pXUQLVxi8E0",
        "outputId": "12a9e645-6b59-4f43-dad2-ba2f2c6ce6f3",
        "colab": {
          "base_uri": "https://localhost:8080/",
          "height": 385
        }
      },
      "cell_type": "code",
      "source": [
        "df.head(10)\n",
        "\n",
        "df['floor2'].value_counts().plot(kind='bar')\n",
        "plt.xlabel('Floor2')\n",
        "plt.ylabel('Count')\n"
      ],
      "execution_count": 8,
      "outputs": [
        {
          "output_type": "execute_result",
          "data": {
            "text/plain": [
              "Text(0,0.5,u'Count')"
            ]
          },
          "metadata": {
            "tags": []
          },
          "execution_count": 8
        },
        {
          "output_type": "display_data",
          "data": {
            "image/png": "[encoded data removed]",
            "text/plain": [
              "<matplotlib.figure.Figure at 0x7fc8478cb050>"
            ]
          },
          "metadata": {
            "tags": []
          }
        }
      ]
    },
    {
      "metadata": {
        "id": "ZSPUVvLVnEZs",
        "colab_type": "code",
        "outputId": "f0b2bf0e-5209-4698-8d2a-a99b49df1a8e",
        "colab": {
          "base_uri": "https://localhost:8080/",
          "height": 359
        }
      },
      "cell_type": "code",
      "source": [
        "df.head(10)"
      ],
      "execution_count": 9,
      "outputs": [
        {
          "output_type": "execute_result",
          "data": {
            "text/html": [
              "<div>\n",
              "<style scoped>\n",
              "    .dataframe tbody tr th:only-of-type {\n",
              "        vertical-align: middle;\n",
              "    }\n",
              "\n",
              "    .dataframe tbody tr th {\n",
              "        vertical-align: top;\n",
              "    }\n",
              "\n",
              "    .dataframe thead th {\n",
              "        text-align: right;\n",
              "    }\n",
              "</style>\n",
              "<table border=\"1\" class=\"dataframe\">\n",
              "  <thead>\n",
              "    <tr style=\"text-align: right;\">\n",
              "      <th></th>\n",
              "      <th>log_radon</th>\n",
              "      <th>floor</th>\n",
              "      <th>county</th>\n",
              "      <th>log_uranium_ppm</th>\n",
              "      <th>log_u2</th>\n",
              "      <th>floor2</th>\n",
              "      <th>floor3</th>\n",
              "    </tr>\n",
              "  </thead>\n",
              "  <tbody>\n",
              "    <tr>\n",
              "      <th>0</th>\n",
              "      <td>0.788457</td>\n",
              "      <td>1</td>\n",
              "      <td>0</td>\n",
              "      <td>-2.000000</td>\n",
              "      <td>-0.217612</td>\n",
              "      <td>1.0</td>\n",
              "      <td>1</td>\n",
              "    </tr>\n",
              "    <tr>\n",
              "      <th>1</th>\n",
              "      <td>0.788457</td>\n",
              "      <td>0</td>\n",
              "      <td>0</td>\n",
              "      <td>-0.689048</td>\n",
              "      <td>-1.880023</td>\n",
              "      <td>0.0</td>\n",
              "      <td>0</td>\n",
              "    </tr>\n",
              "    <tr>\n",
              "      <th>2</th>\n",
              "      <td>1.064711</td>\n",
              "      <td>0</td>\n",
              "      <td>0</td>\n",
              "      <td>-0.689048</td>\n",
              "      <td>0.743659</td>\n",
              "      <td>-1.0</td>\n",
              "      <td>0</td>\n",
              "    </tr>\n",
              "    <tr>\n",
              "      <th>3</th>\n",
              "      <td>0.000000</td>\n",
              "      <td>0</td>\n",
              "      <td>0</td>\n",
              "      <td>-0.689048</td>\n",
              "      <td>-1.001699</td>\n",
              "      <td>0.0</td>\n",
              "      <td>0</td>\n",
              "    </tr>\n",
              "    <tr>\n",
              "      <th>4</th>\n",
              "      <td>1.131402</td>\n",
              "      <td>0</td>\n",
              "      <td>1</td>\n",
              "      <td>-0.847313</td>\n",
              "      <td>-1.567902</td>\n",
              "      <td>1.0</td>\n",
              "      <td>0</td>\n",
              "    </tr>\n",
              "    <tr>\n",
              "      <th>5</th>\n",
              "      <td>0.916291</td>\n",
              "      <td>0</td>\n",
              "      <td>1</td>\n",
              "      <td>-0.847313</td>\n",
              "      <td>0.039850</td>\n",
              "      <td>0.0</td>\n",
              "      <td>0</td>\n",
              "    </tr>\n",
              "    <tr>\n",
              "      <th>6</th>\n",
              "      <td>0.405465</td>\n",
              "      <td>0</td>\n",
              "      <td>1</td>\n",
              "      <td>-0.847313</td>\n",
              "      <td>0.012276</td>\n",
              "      <td>0.0</td>\n",
              "      <td>0</td>\n",
              "    </tr>\n",
              "    <tr>\n",
              "      <th>7</th>\n",
              "      <td>0.000000</td>\n",
              "      <td>0</td>\n",
              "      <td>1</td>\n",
              "      <td>-0.847313</td>\n",
              "      <td>-1.483836</td>\n",
              "      <td>1.0</td>\n",
              "      <td>0</td>\n",
              "    </tr>\n",
              "    <tr>\n",
              "      <th>8</th>\n",
              "      <td>-0.356675</td>\n",
              "      <td>0</td>\n",
              "      <td>1</td>\n",
              "      <td>-0.847313</td>\n",
              "      <td>-0.831616</td>\n",
              "      <td>0.0</td>\n",
              "      <td>0</td>\n",
              "    </tr>\n",
              "    <tr>\n",
              "      <th>9</th>\n",
              "      <td>0.182322</td>\n",
              "      <td>0</td>\n",
              "      <td>1</td>\n",
              "      <td>-0.847313</td>\n",
              "      <td>-3.089998</td>\n",
              "      <td>-1.0</td>\n",
              "      <td>0</td>\n",
              "    </tr>\n",
              "  </tbody>\n",
              "</table>\n",
              "</div>"
            ],
            "text/plain": [
              "   log_radon  floor  county  log_uranium_ppm    log_u2  floor2  floor3\n",
              "0   0.788457      1       0        -2.000000 -0.217612     1.0       1\n",
              "1   0.788457      0       0        -0.689048 -1.880023     0.0       0\n",
              "2   1.064711      0       0        -0.689048  0.743659    -1.0       0\n",
              "3   0.000000      0       0        -0.689048 -1.001699     0.0       0\n",
              "4   1.131402      0       1        -0.847313 -1.567902     1.0       0\n",
              "5   0.916291      0       1        -0.847313  0.039850     0.0       0\n",
              "6   0.405465      0       1        -0.847313  0.012276     0.0       0\n",
              "7   0.000000      0       1        -0.847313 -1.483836     1.0       0\n",
              "8  -0.356675      0       1        -0.847313 -0.831616     0.0       0\n",
              "9   0.182322      0       1        -0.847313 -3.089998    -1.0       0"
            ]
          },
          "metadata": {
            "tags": []
          },
          "execution_count": 9
        }
      ]
    },
    {
      "metadata": {
        "colab_type": "text",
        "id": "_OxaVNnjYZyL"
      },
      "cell_type": "markdown",
      "source": [
        "### Specializing the GLMM Family"
      ]
    },
    {
      "metadata": {
        "colab_type": "text",
        "id": "niha5M54Yjf-"
      },
      "cell_type": "markdown",
      "source": [
        "In this section, we specialize the GLMM family to the task of predicting radon levels. To do this, we first consider the fixed-effect special case of a GLMM.\n",
        "\n",
        "Using R notation, we might consider the following GLM:\n",
        "\n",
        "    log(radon) ~ 1 + floor\n",
        "\n",
        "This model posits that the `radon` response is governed by the floor of a building (e.g., \"ground floor\" of a \"two story\" home).  More concretely it states that the `log(radon)` reading is explainable (in expectation) by the formula `offset + weight_floor[floor]`, i.e., there's a weight learned for every floor and a universal `intercept` term. In R's \"tilde notation\", the `1` indicates there's a weight associated with the \"null feature\", i.e., a weight associated with every sample.\n",
        "\n",
        "Given our data, seems like it might be a good start. I.e.,"
      ]
    },
    {
      "metadata": {
        "colab_type": "code",
        "id": "YwzykNvJgfJo",
        "outputId": "a5c7372c-2d64-47ed-c117-62eb12e7a551",
        "colab": {
          "base_uri": "https://localhost:8080/",
          "height": 720
        }
      },
      "cell_type": "code",
      "source": [
        "df['log_radon'].plot(kind='density');\n",
        "plt.xlabel('log(radon)')\n",
        "plt.figure()\n",
        "df['floor'].value_counts().plot(kind='bar')\n",
        "plt.xlabel('Floor')\n",
        "plt.ylabel('Count')\n"
      ],
      "execution_count": 10,
      "outputs": [
        {
          "output_type": "execute_result",
          "data": {
            "text/plain": [
              "Text(0,0.5,u'Count')"
            ]
          },
          "metadata": {
            "tags": []
          },
          "execution_count": 10
        },
        {
          "output_type": "display_data",
          "data": {
            "image/png": "[encoded data removed]",
            "text/plain": [
              "<matplotlib.figure.Figure at 0x7fc814cf27d0>"
            ]
          },
          "metadata": {
            "tags": []
          }
        },
        {
          "output_type": "display_data",
          "data": {
            "image/png": "[encoded data removed]",
            "text/plain": [
              "<matplotlib.figure.Figure at 0x7fc814cf5090>"
            ]
          },
          "metadata": {
            "tags": []
          }
        }
      ]
    },
    {
      "metadata": {
        "id": "FAzfFiGnCyls",
        "colab_type": "code",
        "outputId": "5ce1d951-11e9-4e28-dd4d-8317019fad13",
        "colab": {
          "base_uri": "https://localhost:8080/",
          "height": 364
        }
      },
      "cell_type": "code",
      "source": [
        "df['log_u2'].plot(kind='density')"
      ],
      "execution_count": 11,
      "outputs": [
        {
          "output_type": "execute_result",
          "data": {
            "text/plain": [
              "<matplotlib.axes._subplots.AxesSubplot at 0x7fc811411110>"
            ]
          },
          "metadata": {
            "tags": []
          },
          "execution_count": 11
        },
        {
          "output_type": "display_data",
          "data": {
            "image/png": "[encoded data removed]",
            "text/plain": [
              "<matplotlib.figure.Figure at 0x7fc811421350>"
            ]
          },
          "metadata": {
            "tags": []
          }
        }
      ]
    },
    {
      "metadata": {
        "colab_type": "text",
        "id": "8MqU1SefgRy5"
      },
      "cell_type": "markdown",
      "source": [
        "Although this seems like a good start, including something about geography is probably even better. I.e.,\n",
        "\n",
        "    radon ~ 1 + floor + county\n",
        "\n",
        "This model posits that the `radon` response is goverened by `offset + weight_floor[floor] + weight_county[county]`, i.e., the same as before except with a county-specific weight."
      ]
    },
    {
      "metadata": {
        "colab_type": "text",
        "id": "rcddRr2Ug1cH"
      },
      "cell_type": "markdown",
      "source": [
        "In the absence of a training set, `radon ~ 1 + floor + county` feels right.  However, if we studied the training data, we'd discover that there's there's a large number of counties with a very small number of measurements. I.e.,"
      ]
    },
    {
      "metadata": {
        "colab_type": "code",
        "id": "15f4k6gQg40_",
        "outputId": "f1f64c6f-001f-499f-dd5c-c48859190025",
        "colab": {
          "base_uri": "https://localhost:8080/",
          "height": 335
        }
      },
      "cell_type": "code",
      "source": [
        "fig, ax = plt.subplots(figsize=(22, 5));\n",
        "county_freq = df['county'].value_counts()\n",
        "county_freq.plot(kind='bar');\n",
        "plt.xlabel('County Code');\n",
        "plt.ylabel('Count');"
      ],
      "execution_count": 12,
      "outputs": [
        {
          "output_type": "display_data",
          "data": {
            "image/png": "[encoded data removed]",
            "text/plain": [
              "<matplotlib.figure.Figure at 0x7fc811421990>"
            ]
          },
          "metadata": {
            "tags": []
          }
        }
      ]
    },
    {
      "metadata": {
        "colab_type": "text",
        "id": "VxtwlODcdJZe"
      },
      "cell_type": "markdown",
      "source": [
        "This is worrisome.  If we attempted to fit this model, the `weight_county` vector would likely end up memorizing the results for counties which had only a few training samples. Not good.\n",
        "\n",
        "GLMM's offer a happy middle to the above two GLMs.  I.e., we might consider fitting,\n",
        "\n",
        "    radon ~ 1 + floor + (1 | county)\n",
        "\n",
        "This model is exactly the same as the first, except we've introduced the random-effect, `(1 | county)`.  Adding this random effect has the effect of allowing per-county random fluctuations in radon  In words, `(1 | county)` means that across samples and within a county, the random fluctuation in observed radon will be the same draw from a random Normal . Furthermore, since the covariance is shared among a group (i.e., a \"random effect\"), the counties with more observations provide a hint at the variance of counties with few observations (since the variance is estimated from the whole group)."
      ]
    },
    {
      "metadata": {
        "colab_type": "text",
        "id": "QjvAR2-ZYgxP"
      },
      "cell_type": "markdown",
      "source": [
        "## Experiment"
      ]
    },
    {
      "metadata": {
        "colab_type": "text",
        "id": "bioH0_7ZfC4Z"
      },
      "cell_type": "markdown",
      "source": [
        "We'll now try to fit the `radon ~ 1 + floor + (1 | county)` GLMM using variational inference in TensorFlow. Our only remaining trick is to use stochastic gradient descent. (For brevity, we omit additional details.)"
      ]
    },
    {
      "metadata": {
        "colab_type": "text",
        "id": "17Lf6EEfGMSJ"
      },
      "cell_type": "markdown",
      "source": [
        "### Imports"
      ]
    },
    {
      "metadata": {
        "colab_type": "code",
        "id": "YKuwO2YmH9gG",
        "colab": {}
      },
      "cell_type": "code",
      "source": [
        "import tensorflow_probability as tfp\n",
        "\n",
        "tfd = tfp.distributions\n",
        "tfb = tfp.bijectors"
      ],
      "execution_count": 0,
      "outputs": []
    },
    {
      "metadata": {
        "colab_type": "text",
        "id": "J1qaYmpKYdX_"
      },
      "cell_type": "markdown",
      "source": [
        "The following code allows `Session` customization.  Feel free to play with the `session_options` arguments and see how computational performance changes."
      ]
    },
    {
      "metadata": {
        "colab_type": "code",
        "id": "hX3rIfVZCAIk",
        "colab": {}
      },
      "cell_type": "code",
      "source": [
        "def session_options(enable_gpu_ram_resizing=True,\n",
        "                    enable_xla=False):\n",
        "  \"\"\"Convenience function which sets common `tf.Session` options.\"\"\"\n",
        "  config = tf.ConfigProto()\n",
        "  config.log_device_placement = True\n",
        "  if enable_gpu_ram_resizing:\n",
        "    # `allow_growth=True` makes it possible to connect multiple colabs to your\n",
        "    # GPU. Otherwise the colab malloc's all GPU ram.\n",
        "    config.gpu_options.allow_growth = True\n",
        "  if enable_xla:\n",
        "    # Enable on XLA. https://www.tensorflow.org/performance/xla/.\n",
        "    config.graph_options.optimizer_options.global_jit_level = (\n",
        "        tf.OptimizerOptions.ON_1)\n",
        "  return config\n",
        "\n",
        "def reset_sess(config=None):\n",
        "  \"\"\"Convenience function to create the TF graph and session, or reset them.\"\"\"\n",
        "  if config is None:\n",
        "    config = session_options()\n",
        "  tf.reset_default_graph()\n",
        "  global sess\n",
        "  try:\n",
        "    sess.close()\n",
        "  except:\n",
        "    pass\n",
        "  sess = tf.InteractiveSession(config=config)\n",
        "\n",
        "reset_sess()"
      ],
      "execution_count": 0,
      "outputs": []
    },
    {
      "metadata": {
        "colab_type": "text",
        "id": "VkJaseCAGes0"
      },
      "cell_type": "markdown",
      "source": [
        "### Setup"
      ]
    },
    {
      "metadata": {
        "colab_type": "text",
        "id": "1dwMTHinKHe5"
      },
      "cell_type": "markdown",
      "source": [
        "For transparency, we'll record all knob settings here."
      ]
    },
    {
      "metadata": {
        "colab_type": "code",
        "id": "QFy2NhmkBfGL",
        "colab": {}
      },
      "cell_type": "code",
      "source": [
        "hparams = tf.contrib.training.HParams(\n",
        "    train_test_split = 0.8,\n",
        "    train_batch_size = 100,\n",
        "    test_batch_size = 10,\n",
        "\n",
        "    dtype=np.float32,\n",
        "    init_raw_scale=np.log(np.expm1(1.)),  # approx= 0.5413\n",
        "    scale_diag_offset=1e-3,\n",
        "\n",
        "    surrogate_posterior_rank=1,\n",
        "\n",
        "    num_monte_carlo_draws=2,\n",
        "\n",
        "    train_iterations = int(3e3),\n",
        "\n",
        "    learning_rate_start = 1e-2,\n",
        "    learning_rate_num_epochs_per_decay = 10,\n",
        "    learning_rate_decay_factor = 0.99,\n",
        ")"
      ],
      "execution_count": 0,
      "outputs": []
    },
    {
      "metadata": {
        "colab_type": "text",
        "id": "iJz56O8kGPsM"
      },
      "cell_type": "markdown",
      "source": [
        "### Data Munging"
      ]
    },
    {
      "metadata": {
        "colab_type": "text",
        "id": "InypzQj8KViU"
      },
      "cell_type": "markdown",
      "source": [
        "We'll use `tf.data.Dataset` to feed the data into the TensorFlow graph. For a nice tutorial on different data loading patterns, see [\"How to use Dataset in TensorFlow\"](https://towardsdatascience.com/how-to-use-dataset-in-tensorflow-c758ef9e4428)."
      ]
    },
    {
      "metadata": {
        "colab_type": "code",
        "id": "zA_Lt3BO9vZa",
        "colab": {}
      },
      "cell_type": "code",
      "source": [
        "def dataset(df, batch_size):\n",
        "  with tf.name_scope(name='dataset'):\n",
        "    feature_cols=['county', 'log_uranium_ppm']\n",
        "    #by Shihao Shen for testing\n",
        "    #feature_cols=['county', 'log_u2']\n",
        "    label_cols=['log_radon']\n",
        "    dataset = tf.data.Dataset.from_tensor_slices((\n",
        "        df[feature_cols].values.astype(np.int32),\n",
        "        df[label_cols].values.astype(np.float32),\n",
        "    )).repeat().batch(batch_size)\n",
        "    iter_ = tf.data.Iterator.from_structure(\n",
        "        dataset.output_types, dataset.output_shapes)\n",
        "    init_op = iter_.make_initializer(dataset)\n",
        "    features, labels = iter_.get_next()\n",
        "    features.set_shape([batch_size, 2])\n",
        "    labels.set_shape([batch_size, 1])\n",
        "    return init_op, features, labels\n",
        "\n",
        "\n",
        "DataStats = collections.namedtuple(\n",
        "    'DataStats',\n",
        "    [\n",
        "        'num_train',\n",
        "        'num_test',\n",
        "        'num_unique_county',\n",
        "        'num_unique_floor',\n",
        "    ])\n",
        "\n",
        "\n",
        "def split_dataset(df, train_test_split, train_batch_size, test_batch_size):\n",
        "  \"\"\"Creates train/test split data.\"\"\"\n",
        "  with tf.name_scope(name='split_dataset'):\n",
        "    train_df = df.sample(frac=train_test_split, random_state=42)\n",
        "    test_df = df.drop(train_df.index)\n",
        "    data_stats = DataStats(\n",
        "        num_train=len(train_df),\n",
        "        num_test=len(test_df),\n",
        "        num_unique_county=1 + df['county'].max(),\n",
        "        #num_unique_floor=1 + df['floor3'].max(),\n",
        "        num_unique_floor=3,\n",
        "    )\n",
        "    train_init_op, train_features, train_labels = dataset(\n",
        "        train_df,\n",
        "        train_batch_size)\n",
        "    test_init_op, test_features, test_labels = dataset(\n",
        "        test_df,\n",
        "        test_batch_size)\n",
        "    return [\n",
        "        tf.group([train_init_op, test_init_op]),  # dataset_init\n",
        "        train_features,\n",
        "        train_labels,\n",
        "        test_features,\n",
        "        test_labels,\n",
        "        data_stats,\n",
        "    ]"
      ],
      "execution_count": 0,
      "outputs": []
    },
    {
      "metadata": {
        "id": "231v5VR9FgRm",
        "colab_type": "code",
        "outputId": "62f3a203-c1e0-4ff8-fced-fc1fb6754b92",
        "colab": {
          "base_uri": "https://localhost:8080/",
          "height": 85
        }
      },
      "cell_type": "code",
      "source": [
        "#test paddings\n",
        "t = tf.constant([[1, 2, 3], [4, 5, 6]])\n",
        "paddings = tf.constant([[1, 1,], [2, 2]])\n",
        "tf.pad(t, paddings, \"CONSTANT\").eval()\n",
        "#test gather\n"
      ],
      "execution_count": 17,
      "outputs": [
        {
          "output_type": "execute_result",
          "data": {
            "text/plain": [
              "array([[0, 0, 0, 0, 0, 0, 0],\n",
              "       [0, 0, 1, 2, 3, 0, 0],\n",
              "       [0, 0, 4, 5, 6, 0, 0],\n",
              "       [0, 0, 0, 0, 0, 0, 0]], dtype=int32)"
            ]
          },
          "metadata": {
            "tags": []
          },
          "execution_count": 17
        }
      ]
    },
    {
      "metadata": {
        "colab_type": "text",
        "id": "ZWvgUUAbGgkc"
      },
      "cell_type": "markdown",
      "source": [
        "### Specify Model"
      ]
    },
    {
      "metadata": {
        "colab_type": "code",
        "id": "rcl2AuF1GePi",
        "colab": {}
      },
      "cell_type": "code",
      "source": [
        "def make_prior():\n",
        "  def _fn():\n",
        "    dims = data_stats.num_unique_county\n",
        "    prior_raw_scale = tf.get_variable(\n",
        "        name='prior_raw_scale',\n",
        "        initializer=np.array(hparams.init_raw_scale, hparams.dtype))\n",
        "    scale = tf.nn.softplus(prior_raw_scale) + hparams.scale_diag_offset\n",
        "    return tfd.Independent(\n",
        "        tfd.Normal(loc=np.zeros(dims, hparams.dtype), scale=scale),\n",
        "        reinterpreted_batch_ndims=1,\n",
        "        name='prior')\n",
        "  return tf.make_template('make_prior', _fn)()\n",
        "\n",
        "\n",
        "def make_likelihood(x, u):\n",
        "  def _fn():\n",
        "    intercept = tf.get_variable(\n",
        "      name='intercept',\n",
        "      initializer=np.zeros(1, hparams.dtype))\n",
        "    \n",
        "    weights_floor = tf.pad(\n",
        "        tf.get_variable(\n",
        "            name='weights_floor',\n",
        "            initializer=np.zeros(data_stats.num_unique_floor - 1,\n",
        "                                 hparams.dtype)),\n",
        "        paddings=[[1, 0]])\n",
        "\n",
        "#    weights_floor2 = tf.pad(\n",
        "#        tf.get_variable(\n",
        "#            name='weights_floor2',\n",
        "#            initializer=np.zeros(data_stats.num_unique_floor2 - 1,\n",
        "#                                 hparams.dtype)),\n",
        "#        paddings=[[1, 0]])\n",
        "    \n",
        "   \n",
        "    random_effect = tf.transpose(tf.gather(tf.transpose(u), x[:, 0]))\n",
        "    #fixed_effect = intercept + tf.gather(weights_floor, x[:, 1]) + tf.gather(weights_u,x[:,2])\n",
        "    fixed_effect = intercept + tf.gather(weights_floor, x[:, 1])\n",
        "    #fixed_effect = intercept + tf.gather(weights_floor, x[:, 1]) + tf.gather(weights_floor2, x[:, 5])\n",
        "    predicted_linear_response = fixed_effect + random_effect\n",
        "  \n",
        "    likelihood_raw_scale = tf.get_variable(\n",
        "        name='likelihood_raw_scale',\n",
        "        initializer=np.array(hparams.init_raw_scale, hparams.dtype))\n",
        "    \n",
        "    scale = tf.nn.softplus(likelihood_raw_scale) + hparams.scale_diag_offset\n",
        "    \n",
        "    return tfd.Independent(\n",
        "        tfd.Normal(loc=predicted_linear_response[..., tf.newaxis],\n",
        "                   scale=scale),\n",
        "        reinterpreted_batch_ndims=2,\n",
        "        name='likelihood')\n",
        "\n",
        "  return tf.make_template('make_likelihood', _fn)()\n",
        "\n",
        "\n",
        "def make_surrogate_posterior():\n",
        "  dims = data_stats.num_unique_county\n",
        "  def _tril():\n",
        "    loc = tf.get_variable(\n",
        "        name='surrogate_loc',\n",
        "        shape=[dims],\n",
        "        initializer=tf.zeros_initializer())\n",
        "    raw_scale_tril = tf.get_variable(\n",
        "        name='surrogate_raw_scale_tril',\n",
        "        initializer=np.zeros(dims * (dims + 1) // 2, hparams.dtype))\n",
        "    scale_tril = tfd.fill_triangular(raw_scale_tril)\n",
        "    new_diag = hparams.scale_diag_offset + tf.nn.softplus(\n",
        "        hparams.init_raw_scale + tf.diag_part(scale_tril))\n",
        "    scale_tril = tf.linalg.set_diag(scale_tril, new_diag)\n",
        "    return tfd.MultivariateNormalTriL(\n",
        "        loc=loc,\n",
        "        scale_tril=scale_tril,\n",
        "        name='surrogate_posterior')\n",
        "  def _lowrank():\n",
        "    rank = 1\n",
        "    loc = tf.get_variable(\n",
        "        name='surrogate_loc',\n",
        "        shape=[dims],\n",
        "        initializer=tf.zeros_initializer())\n",
        "    raw_scale = tf.get_variable(\n",
        "        name='surrogate_raw_scale',\n",
        "        initializer=np.zeros(dims * (1 + rank), hparams.dtype))\n",
        "    return tfd.MultivariateNormalDiagPlusLowRank(\n",
        "        loc=loc,\n",
        "        scale_diag=tf.nn.softplus(hparams.init_raw_scale + raw_scale[:dims]),\n",
        "        scale_perturb_factor=tf.reshape(raw_scale[dims:], [dims, rank]),\n",
        "        name='surrogate_posterior')\n",
        "  return tf.make_template(\n",
        "      'make_surrogate_posterior',\n",
        "      _tril if hparams.surrogate_posterior_rank >= dims else _lowrank)()"
      ],
      "execution_count": 0,
      "outputs": []
    },
    {
      "metadata": {
        "colab_type": "text",
        "id": "8cd1whNpMPwL"
      },
      "cell_type": "markdown",
      "source": [
        "### Main"
      ]
    },
    {
      "metadata": {
        "colab_type": "code",
        "id": "85FS-MhiFHjF",
        "outputId": "82861324-9df6-42a1-846d-2efb9b4b74ac",
        "colab": {
          "base_uri": "https://localhost:8080/",
          "height": 258
        }
      },
      "cell_type": "code",
      "source": [
        "reset_sess()\n",
        "\n",
        "[\n",
        "  data_init,\n",
        "  train_features,\n",
        "  train_labels,\n",
        "  test_features,\n",
        "  test_labels,\n",
        "  data_stats,\n",
        "] = split_dataset(\n",
        "    df,\n",
        "    hparams.train_test_split,\n",
        "    hparams.train_batch_size,\n",
        "    hparams.test_batch_size,\n",
        ")\n",
        "\n",
        "prior = make_prior()\n",
        "print(prior)\n",
        "\n",
        "surrogate_posterior = make_surrogate_posterior()\n",
        "print(surrogate_posterior)\n",
        "\n",
        "minibatch_correction_factor = data_stats.num_train / hparams.train_batch_size\n",
        "\n",
        "def unnormalized_approx_posterior_log_prob(u):\n",
        "  likelihood = make_likelihood(train_features, u)\n",
        "  print(likelihood)\n",
        "  return (likelihood.log_prob(train_labels) * minibatch_correction_factor\n",
        "          + prior.log_prob(u))\n",
        "\n",
        "elbo_loss = tfp.vi.monte_carlo_csiszar_f_divergence(\n",
        "    f=tfp.vi.kl_reverse,  # same as: Evidence Lower BOund\n",
        "    p_log_prob=unnormalized_approx_posterior_log_prob,\n",
        "    q=surrogate_posterior,\n",
        "    num_draws=hparams.num_monte_carlo_draws,\n",
        "    name='elbo_loss')\n",
        "print(elbo_loss)\n",
        "\n",
        "global_step = tf.train.get_or_create_global_step()\n",
        "learning_rate = tf.train.exponential_decay(\n",
        "    learning_rate=hparams.learning_rate_start,\n",
        "    global_step=global_step,\n",
        "    decay_steps=minibatch_correction_factor * hparams.learning_rate_num_epochs_per_decay,\n",
        "    decay_rate=hparams.learning_rate_decay_factor,\n",
        "    staircase=True)\n",
        "opt = tf.train.AdamOptimizer(learning_rate=learning_rate)\n",
        "train = opt.minimize(elbo_loss, global_step=global_step)\n",
        "\n",
        "pprint(tf.trainable_variables())\n",
        "\n",
        "var_init = tf.global_variables_initializer()"
      ],
      "execution_count": 19,
      "outputs": [
        {
          "output_type": "stream",
          "text": [
            "tfp.distributions.Independent(\"make_prior/prior/\", batch_shape=(), event_shape=(85,), dtype=float32)\n",
            "tfp.distributions.MultivariateNormalDiagPlusLowRank(\"make_surrogate_posterior/surrogate_posterior/\", batch_shape=(), event_shape=(85,), dtype=float32)\n",
            "tfp.distributions.Independent(\"elbo_loss/expectation/make_likelihood/likelihood/\", batch_shape=(2,), event_shape=(100, 1), dtype=float32)\n",
            "WARNING:tensorflow:From /usr/local/lib/python2.7/dist-packages/tensorflow_probability/python/monte_carlo.py:161: calling reduce_mean (from tensorflow.python.ops.math_ops) with keep_dims is deprecated and will be removed in a future version.\n",
            "Instructions for updating:\n",
            "keep_dims is deprecated, use keepdims instead\n",
            "Tensor(\"elbo_loss/expectation/Mean:0\", shape=(), dtype=float32)\n",
            "[<tf.Variable 'make_prior/prior_raw_scale:0' shape=() dtype=float32_ref>,\n",
            " <tf.Variable 'make_surrogate_posterior/surrogate_loc:0' shape=(85,) dtype=float32_ref>,\n",
            " <tf.Variable 'make_surrogate_posterior/surrogate_raw_scale:0' shape=(170,) dtype=float32_ref>,\n",
            " <tf.Variable 'make_likelihood/intercept:0' shape=(1,) dtype=float32_ref>,\n",
            " <tf.Variable 'make_likelihood/weights_floor:0' shape=(2,) dtype=float32_ref>,\n",
            " <tf.Variable 'make_likelihood/likelihood_raw_scale:0' shape=() dtype=float32_ref>]\n"
          ],
          "name": "stdout"
        }
      ]
    },
    {
      "metadata": {
        "colab_type": "code",
        "id": "e9IaaqZPK9V8",
        "outputId": "c30c5c8d-c148-4e12-a6d1-b7cc8f24047d",
        "colab": {
          "base_uri": "https://localhost:8080/",
          "height": 2071
        }
      },
      "cell_type": "code",
      "source": [
        "loss_ = np.zeros(hparams.train_iterations)\n",
        "\n",
        "sess.run([var_init, data_init])\n",
        "\n",
        "for iter_ in range(hparams.train_iterations):\n",
        "  [\n",
        "      _,\n",
        "      train_features_,\n",
        "      train_labels_,\n",
        "      test_features_,\n",
        "      test_labels_,\n",
        "      loss_[iter_],\n",
        "  ] = sess.run([\n",
        "      train,\n",
        "      train_features,\n",
        "      train_labels,\n",
        "      test_features,\n",
        "      test_labels,\n",
        "      elbo_loss,\n",
        "  ])\n",
        "  if iter_ % 200 == 0 or iter_ == hparams.train_iterations - 1:\n",
        "    print(\"iter:{:>4}  loss:{:.3f}\".format(\n",
        "        iter_, loss_[iter_]))"
      ],
      "execution_count": 20,
      "outputs": [
        {
          "output_type": "stream",
          "text": [
            "iter:   0  loss:1645.816\n"
          ],
          "name": "stdout"
        },
        {
          "output_type": "error",
          "ename": "InvalidArgumentError",
          "evalue": "ignored",
          "traceback": [
            "\u001b[0;31m\u001b[0m",
            "\u001b[0;31mInvalidArgumentError\u001b[0mTraceback (most recent call last)",
            "\u001b[0;32m<ipython-input-20-1f45783de46f>\u001b[0m in \u001b[0;36m<module>\u001b[0;34m()\u001b[0m\n\u001b[1;32m     17\u001b[0m       \u001b[0mtest_features\u001b[0m\u001b[0;34m,\u001b[0m\u001b[0;34m\u001b[0m\u001b[0m\n\u001b[1;32m     18\u001b[0m       \u001b[0mtest_labels\u001b[0m\u001b[0;34m,\u001b[0m\u001b[0;34m\u001b[0m\u001b[0m\n\u001b[0;32m---> 19\u001b[0;31m       \u001b[0melbo_loss\u001b[0m\u001b[0;34m,\u001b[0m\u001b[0;34m\u001b[0m\u001b[0m\n\u001b[0m\u001b[1;32m     20\u001b[0m   ])\n\u001b[1;32m     21\u001b[0m   \u001b[0;32mif\u001b[0m \u001b[0miter_\u001b[0m \u001b[0;34m%\u001b[0m \u001b[0;36m200\u001b[0m \u001b[0;34m==\u001b[0m \u001b[0;36m0\u001b[0m \u001b[0;32mor\u001b[0m \u001b[0miter_\u001b[0m \u001b[0;34m==\u001b[0m \u001b[0mhparams\u001b[0m\u001b[0;34m.\u001b[0m\u001b[0mtrain_iterations\u001b[0m \u001b[0;34m-\u001b[0m \u001b[0;36m1\u001b[0m\u001b[0;34m:\u001b[0m\u001b[0;34m\u001b[0m\u001b[0m\n",
            "\u001b[0;32m/usr/local/lib/python2.7/dist-packages/tensorflow/python/client/session.pyc\u001b[0m in \u001b[0;36mrun\u001b[0;34m(self, fetches, feed_dict, options, run_metadata)\u001b[0m\n\u001b[1;32m    927\u001b[0m     \u001b[0;32mtry\u001b[0m\u001b[0;34m:\u001b[0m\u001b[0;34m\u001b[0m\u001b[0m\n\u001b[1;32m    928\u001b[0m       result = self._run(None, fetches, feed_dict, options_ptr,\n\u001b[0;32m--> 929\u001b[0;31m                          run_metadata_ptr)\n\u001b[0m\u001b[1;32m    930\u001b[0m       \u001b[0;32mif\u001b[0m \u001b[0mrun_metadata\u001b[0m\u001b[0;34m:\u001b[0m\u001b[0;34m\u001b[0m\u001b[0m\n\u001b[1;32m    931\u001b[0m         \u001b[0mproto_data\u001b[0m \u001b[0;34m=\u001b[0m \u001b[0mtf_session\u001b[0m\u001b[0;34m.\u001b[0m\u001b[0mTF_GetBuffer\u001b[0m\u001b[0;34m(\u001b[0m\u001b[0mrun_metadata_ptr\u001b[0m\u001b[0;34m)\u001b[0m\u001b[0;34m\u001b[0m\u001b[0m\n",
            "\u001b[0;32m/usr/local/lib/python2.7/dist-packages/tensorflow/python/client/session.pyc\u001b[0m in \u001b[0;36m_run\u001b[0;34m(self, handle, fetches, feed_dict, options, run_metadata)\u001b[0m\n\u001b[1;32m   1150\u001b[0m     \u001b[0;32mif\u001b[0m \u001b[0mfinal_fetches\u001b[0m \u001b[0;32mor\u001b[0m \u001b[0mfinal_targets\u001b[0m \u001b[0;32mor\u001b[0m \u001b[0;34m(\u001b[0m\u001b[0mhandle\u001b[0m \u001b[0;32mand\u001b[0m \u001b[0mfeed_dict_tensor\u001b[0m\u001b[0;34m)\u001b[0m\u001b[0;34m:\u001b[0m\u001b[0;34m\u001b[0m\u001b[0m\n\u001b[1;32m   1151\u001b[0m       results = self._do_run(handle, final_targets, final_fetches,\n\u001b[0;32m-> 1152\u001b[0;31m                              feed_dict_tensor, options, run_metadata)\n\u001b[0m\u001b[1;32m   1153\u001b[0m     \u001b[0;32melse\u001b[0m\u001b[0;34m:\u001b[0m\u001b[0;34m\u001b[0m\u001b[0m\n\u001b[1;32m   1154\u001b[0m       \u001b[0mresults\u001b[0m \u001b[0;34m=\u001b[0m \u001b[0;34m[\u001b[0m\u001b[0;34m]\u001b[0m\u001b[0;34m\u001b[0m\u001b[0m\n",
            "\u001b[0;32m/usr/local/lib/python2.7/dist-packages/tensorflow/python/client/session.pyc\u001b[0m in \u001b[0;36m_do_run\u001b[0;34m(self, handle, target_list, fetch_list, feed_dict, options, run_metadata)\u001b[0m\n\u001b[1;32m   1326\u001b[0m     \u001b[0;32mif\u001b[0m \u001b[0mhandle\u001b[0m \u001b[0;32mis\u001b[0m \u001b[0mNone\u001b[0m\u001b[0;34m:\u001b[0m\u001b[0;34m\u001b[0m\u001b[0m\n\u001b[1;32m   1327\u001b[0m       return self._do_call(_run_fn, feeds, fetches, targets, options,\n\u001b[0;32m-> 1328\u001b[0;31m                            run_metadata)\n\u001b[0m\u001b[1;32m   1329\u001b[0m     \u001b[0;32melse\u001b[0m\u001b[0;34m:\u001b[0m\u001b[0;34m\u001b[0m\u001b[0m\n\u001b[1;32m   1330\u001b[0m       \u001b[0;32mreturn\u001b[0m \u001b[0mself\u001b[0m\u001b[0;34m.\u001b[0m\u001b[0m_do_call\u001b[0m\u001b[0;34m(\u001b[0m\u001b[0m_prun_fn\u001b[0m\u001b[0;34m,\u001b[0m \u001b[0mhandle\u001b[0m\u001b[0;34m,\u001b[0m \u001b[0mfeeds\u001b[0m\u001b[0;34m,\u001b[0m \u001b[0mfetches\u001b[0m\u001b[0;34m)\u001b[0m\u001b[0;34m\u001b[0m\u001b[0m\n",
            "\u001b[0;32m/usr/local/lib/python2.7/dist-packages/tensorflow/python/client/session.pyc\u001b[0m in \u001b[0;36m_do_call\u001b[0;34m(self, fn, *args)\u001b[0m\n\u001b[1;32m   1346\u001b[0m           \u001b[0;32mpass\u001b[0m\u001b[0;34m\u001b[0m\u001b[0m\n\u001b[1;32m   1347\u001b[0m       \u001b[0mmessage\u001b[0m \u001b[0;34m=\u001b[0m \u001b[0merror_interpolation\u001b[0m\u001b[0;34m.\u001b[0m\u001b[0minterpolate\u001b[0m\u001b[0;34m(\u001b[0m\u001b[0mmessage\u001b[0m\u001b[0;34m,\u001b[0m \u001b[0mself\u001b[0m\u001b[0;34m.\u001b[0m\u001b[0m_graph\u001b[0m\u001b[0;34m)\u001b[0m\u001b[0;34m\u001b[0m\u001b[0m\n\u001b[0;32m-> 1348\u001b[0;31m       \u001b[0;32mraise\u001b[0m \u001b[0mtype\u001b[0m\u001b[0;34m(\u001b[0m\u001b[0me\u001b[0m\u001b[0;34m)\u001b[0m\u001b[0;34m(\u001b[0m\u001b[0mnode_def\u001b[0m\u001b[0;34m,\u001b[0m \u001b[0mop\u001b[0m\u001b[0;34m,\u001b[0m \u001b[0mmessage\u001b[0m\u001b[0;34m)\u001b[0m\u001b[0;34m\u001b[0m\u001b[0m\n\u001b[0m\u001b[1;32m   1349\u001b[0m \u001b[0;34m\u001b[0m\u001b[0m\n\u001b[1;32m   1350\u001b[0m   \u001b[0;32mdef\u001b[0m \u001b[0m_extend_graph\u001b[0m\u001b[0;34m(\u001b[0m\u001b[0mself\u001b[0m\u001b[0;34m)\u001b[0m\u001b[0;34m:\u001b[0m\u001b[0;34m\u001b[0m\u001b[0m\n",
            "\u001b[0;31mInvalidArgumentError\u001b[0m: indices[80] = -2 is not in [0, 3)\n\t [[node elbo_loss/expectation/make_likelihood/GatherV2_1 (defined at <ipython-input-18-3d0114a40e06>:38)  = GatherV2[Taxis=DT_INT32, Tindices=DT_INT32, Tparams=DT_FLOAT, _device=\"/job:localhost/replica:0/task:0/device:CPU:0\"](elbo_loss/expectation/make_likelihood/Pad, elbo_loss/expectation/make_likelihood/strided_slice_1, elbo_loss/expectation/make_likelihood/GatherV2_1/axis)]]\n\nCaused by op u'elbo_loss/expectation/make_likelihood/GatherV2_1', defined at:\n  File \"/usr/lib/python2.7/runpy.py\", line 174, in _run_module_as_main\n    \"__main__\", fname, loader, pkg_name)\n  File \"/usr/lib/python2.7/runpy.py\", line 72, in _run_code\n    exec code in run_globals\n  File \"/usr/local/lib/python2.7/dist-packages/ipykernel_launcher.py\", line 16, in <module>\n    app.launch_new_instance()\n  File \"/usr/local/lib/python2.7/dist-packages/traitlets/config/application.py\", line 658, in launch_instance\n    app.start()\n  File \"/usr/local/lib/python2.7/dist-packages/ipykernel/kernelapp.py\", line 477, in start\n    ioloop.IOLoop.instance().start()\n  File \"/usr/local/lib/python2.7/dist-packages/tornado/ioloop.py\", line 832, in start\n    self._run_callback(self._callbacks.popleft())\n  File \"/usr/local/lib/python2.7/dist-packages/tornado/ioloop.py\", line 605, in _run_callback\n    ret = callback()\n  File \"/usr/local/lib/python2.7/dist-packages/tornado/stack_context.py\", line 277, in null_wrapper\n    return fn(*args, **kwargs)\n  File \"/usr/local/lib/python2.7/dist-packages/zmq/eventloop/zmqstream.py\", line 536, in <lambda>\n    self.io_loop.add_callback(lambda : self._handle_events(self.socket, 0))\n  File \"/usr/local/lib/python2.7/dist-packages/zmq/eventloop/zmqstream.py\", line 450, in _handle_events\n    self._handle_recv()\n  File \"/usr/local/lib/python2.7/dist-packages/zmq/eventloop/zmqstream.py\", line 480, in _handle_recv\n    self._run_callback(callback, msg)\n  File \"/usr/local/lib/python2.7/dist-packages/zmq/eventloop/zmqstream.py\", line 432, in _run_callback\n    callback(*args, **kwargs)\n  File \"/usr/local/lib/python2.7/dist-packages/tornado/stack_context.py\", line 277, in null_wrapper\n    return fn(*args, **kwargs)\n  File \"/usr/local/lib/python2.7/dist-packages/ipykernel/kernelbase.py\", line 283, in dispatcher\n    return self.dispatch_shell(stream, msg)\n  File \"/usr/local/lib/python2.7/dist-packages/ipykernel/kernelbase.py\", line 235, in dispatch_shell\n    handler(stream, idents, msg)\n  File \"/usr/local/lib/python2.7/dist-packages/ipykernel/kernelbase.py\", line 399, in execute_request\n    user_expressions, allow_stdin)\n  File \"/usr/local/lib/python2.7/dist-packages/ipykernel/ipkernel.py\", line 196, in do_execute\n    res = shell.run_cell(code, store_history=store_history, silent=silent)\n  File \"/usr/local/lib/python2.7/dist-packages/ipykernel/zmqshell.py\", line 533, in run_cell\n    return super(ZMQInteractiveShell, self).run_cell(*args, **kwargs)\n  File \"/usr/local/lib/python2.7/dist-packages/IPython/core/interactiveshell.py\", line 2718, in run_cell\n    interactivity=interactivity, compiler=compiler, result=result)\n  File \"/usr/local/lib/python2.7/dist-packages/IPython/core/interactiveshell.py\", line 2822, in run_ast_nodes\n    if self.run_code(code, result):\n  File \"/usr/local/lib/python2.7/dist-packages/IPython/core/interactiveshell.py\", line 2882, in run_code\n    exec(code_obj, self.user_global_ns, self.user_ns)\n  File \"<ipython-input-19-40b328b5c697>\", line 36, in <module>\n    name='elbo_loss')\n  File \"/usr/local/lib/python2.7/dist-packages/tensorflow_probability/python/vi/csiszar_divergence.py\", line 903, in monte_carlo_csiszar_f_divergence\n    use_reparametrization=use_reparametrization)\n  File \"/usr/local/lib/python2.7/dist-packages/tensorflow_probability/python/monte_carlo.py\", line 161, in expectation\n    return tf.reduce_mean(f(samples), axis=axis, keep_dims=keep_dims)\n  File \"/usr/local/lib/python2.7/dist-packages/tensorflow_probability/python/vi/csiszar_divergence.py\", line 900, in <lambda>\n    f=lambda q_samples: f(p_log_prob(q_samples) - q.log_prob(q_samples)),\n  File \"<ipython-input-19-40b328b5c697>\", line 26, in unnormalized_approx_posterior_log_prob\n    likelihood = make_likelihood(train_features, u)\n  File \"<ipython-input-18-3d0114a40e06>\", line 54, in make_likelihood\n    return tf.make_template('make_likelihood', _fn)()\n  File \"/usr/local/lib/python2.7/dist-packages/tensorflow/python/ops/template.py\", line 368, in __call__\n    return self._call_func(args, kwargs)\n  File \"/usr/local/lib/python2.7/dist-packages/tensorflow/python/ops/template.py\", line 311, in _call_func\n    result = self._func(*args, **kwargs)\n  File \"<ipython-input-18-3d0114a40e06>\", line 38, in _fn\n    fixed_effect = intercept + tf.gather(weights_floor, x[:, 1])\n  File \"/usr/local/lib/python2.7/dist-packages/tensorflow/python/ops/array_ops.py\", line 2675, in gather\n    return gen_array_ops.gather_v2(params, indices, axis, name=name)\n  File \"/usr/local/lib/python2.7/dist-packages/tensorflow/python/ops/gen_array_ops.py\", line 3332, in gather_v2\n    \"GatherV2\", params=params, indices=indices, axis=axis, name=name)\n  File \"/usr/local/lib/python2.7/dist-packages/tensorflow/python/framework/op_def_library.py\", line 787, in _apply_op_helper\n    op_def=op_def)\n  File \"/usr/local/lib/python2.7/dist-packages/tensorflow/python/util/deprecation.py\", line 488, in new_func\n    return func(*args, **kwargs)\n  File \"/usr/local/lib/python2.7/dist-packages/tensorflow/python/framework/ops.py\", line 3274, in create_op\n    op_def=op_def)\n  File \"/usr/local/lib/python2.7/dist-packages/tensorflow/python/framework/ops.py\", line 1770, in __init__\n    self._traceback = tf_stack.extract_stack()\n\nInvalidArgumentError (see above for traceback): indices[80] = -2 is not in [0, 3)\n\t [[node elbo_loss/expectation/make_likelihood/GatherV2_1 (defined at <ipython-input-18-3d0114a40e06>:38)  = GatherV2[Taxis=DT_INT32, Tindices=DT_INT32, Tparams=DT_FLOAT, _device=\"/job:localhost/replica:0/task:0/device:CPU:0\"](elbo_loss/expectation/make_likelihood/Pad, elbo_loss/expectation/make_likelihood/strided_slice_1, elbo_loss/expectation/make_likelihood/GatherV2_1/axis)]]\n"
          ]
        }
      ]
    },
    {
      "metadata": {
        "colab_type": "code",
        "id": "Sp-9-fdSK36r",
        "colab": {}
      },
      "cell_type": "code",
      "source": [
        "train"
      ],
      "execution_count": 0,
      "outputs": []
    },
    {
      "metadata": {
        "colab_type": "text",
        "id": "6H7RVU-SXexC"
      },
      "cell_type": "markdown",
      "source": [
        "### Results"
      ]
    },
    {
      "metadata": {
        "colab_type": "code",
        "id": "OmiHUfBDUZg4",
        "colab": {}
      },
      "cell_type": "code",
      "source": [
        "surrogate_posterior_cov = surrogate_posterior.covariance()\n",
        "surrogate_posterior_mean = surrogate_posterior.mean()\n",
        "surrogate_posterior_scale = tf.cholesky(surrogate_posterior_cov )\n",
        "\n",
        "with tf.variable_scope('make_likelihood', reuse=True):\n",
        "  intercept = tf.get_variable(name='intercept')\n",
        "  weights_floor = tf.get_variable(name='weights_floor')\n",
        "\n",
        "[\n",
        "    surrogate_posterior_mean_,\n",
        "    surrogate_posterior_scale_,\n",
        "    surrogate_posterior_cov_,\n",
        "    intercept_,\n",
        "    weights_floor_,\n",
        "    prior_scale_,\n",
        "] = sess.run([\n",
        "    surrogate_posterior_mean,\n",
        "    surrogate_posterior_scale,\n",
        "    surrogate_posterior_cov,\n",
        "    intercept,\n",
        "    weights_floor,\n",
        "    prior.distribution.scale,\n",
        "])\n",
        "\n",
        "\n",
        "print('    intercept: ', intercept_)\n",
        "print('weights_floor: ', weights_floor_)\n",
        "print('  prior_scale: ', prior_scale_)"
      ],
      "execution_count": 0,
      "outputs": []
    },
    {
      "metadata": {
        "id": "aK9CaGtSflo4",
        "colab_type": "code",
        "colab": {}
      },
      "cell_type": "code",
      "source": [
        "print(len(surrogate_posterior_mean_))"
      ],
      "execution_count": 0,
      "outputs": []
    },
    {
      "metadata": {
        "colab_type": "text",
        "id": "eG8Z-HVwiz63"
      },
      "cell_type": "markdown",
      "source": [
        "We will now plot the training-set loss as a function of training iteration. Note that although the `learning_rate` decays to `0`, there's still noise in the loss owing to the learned parameters being evaluated over different mini-batches."
      ]
    },
    {
      "metadata": {
        "colab_type": "code",
        "id": "qa63HEgPu2Zn",
        "colab": {}
      },
      "cell_type": "code",
      "source": [
        "plt.plot(loss_, 'b-');\n",
        "plt.xlabel('iter');\n",
        "plt.ylabel('loss');"
      ],
      "execution_count": 0,
      "outputs": []
    },
    {
      "metadata": {
        "colab_type": "text",
        "id": "WJHWXM33i_3o"
      },
      "cell_type": "markdown",
      "source": [
        "We now plot a nonparametric estimate of the density of the diagonal of the surrogate posterior covariance. Roughly speaking, this shows us how much intrinsic variability there is in each county's `log(radon)` readings."
      ]
    },
    {
      "metadata": {
        "colab_type": "code",
        "id": "Pa47BzL0u2KA",
        "colab": {}
      },
      "cell_type": "code",
      "source": [
        "surrogate_posterior_diag_scale_ = np.diag(surrogate_posterior_scale_)\n",
        "with warnings.catch_warnings():\n",
        "  warnings.simplefilter(\"ignore\")\n",
        "  sns.kdeplot(surrogate_posterior_diag_scale_, shade=True, color=\"r\");\n",
        "  plt.xlabel('posterior std. deviation');\n",
        "  plt.ylabel('density');"
      ],
      "execution_count": 0,
      "outputs": []
    },
    {
      "metadata": {
        "colab_type": "text",
        "id": "L9WYd1WxjQ2u"
      },
      "cell_type": "markdown",
      "source": [
        "We now show a heat map of the covariance matrix. This shows us that just looking at the diagonal was a perfectly reasonable thing to do; the matrix is clearly [diagonally dominant](https://en.wikipedia.org/wiki/Diagonally_dominant_matrix)."
      ]
    },
    {
      "metadata": {
        "colab_type": "code",
        "id": "-etGwnAHu2Br",
        "colab": {}
      },
      "cell_type": "code",
      "source": [
        "sns.heatmap(surrogate_posterior_cov_)\n",
        "plt.title('Surrogate Posterior Covariance')"
      ],
      "execution_count": 0,
      "outputs": []
    },
    {
      "metadata": {
        "colab_type": "text",
        "id": "unU7DMKVjel7"
      },
      "cell_type": "markdown",
      "source": [
        "We now conjecture that the county-wise standard deviations might be log-correlated with the number of observations for that county."
      ]
    },
    {
      "metadata": {
        "colab_type": "code",
        "id": "PqpaImuYu14c",
        "colab": {}
      },
      "cell_type": "code",
      "source": [
        "cnt = np.histogram(\n",
        "    df['county'],\n",
        "    np.arange(data_stats.num_unique_county+1))[0]\n",
        "\n",
        "y = np.stack([cnt, surrogate_posterior_diag_scale_]).T\n",
        "y = y[y[:,0].argsort()]  # sort by zero-th col\n",
        "sns.regplot(x=np.log(y[:,0]), y=y[:, 1], color='g')\n",
        "plt.xlabel('county log-count');\n",
        "plt.ylabel('posterior std. deviation');"
      ],
      "execution_count": 0,
      "outputs": []
    },
    {
      "metadata": {
        "colab_type": "text",
        "id": "JYJL76jkcFjl"
      },
      "cell_type": "markdown",
      "source": [
        "Indeed--we do appear to have learned a log-linear relationship between std. deviation and county frequency. This is neat because we never expressed this idea in the model; it is simply apparently true."
      ]
    },
    {
      "metadata": {
        "colab_type": "text",
        "id": "AxhvAIeFs2cL"
      },
      "cell_type": "markdown",
      "source": [
        "\n",
        "## Comparing to `lme4` in R"
      ]
    },
    {
      "metadata": {
        "colab_type": "code",
        "id": "hvRDd7T-s7qY",
        "colab": {}
      },
      "cell_type": "code",
      "source": [
        "%%shell\n",
        "exit  # Trick to make this block not execute.\n",
        "\n",
        "radon = read.csv('srrs2.dat', header = TRUE)\n",
        "radon = radon[radon$state=='MN',]\n",
        "radon$radon = ifelse(radon$activity==0., 0.1, radon$activity)\n",
        "radon$log_radon = log(radon$radon)\n",
        "\n",
        "# install.packages('lme4')\n",
        "library(lme4)\n",
        "fit <- lmer(log_radon ~ 1 + floor + (1 | county), data=radon)\n",
        "fit\n",
        "\n",
        "# Linear mixed model fit by REML ['lmerMod']\n",
        "# Formula: log_radon ~ 1 + floor + (1 | county)\n",
        "#    Data: radon\n",
        "# REML criterion at convergence: 2171.305\n",
        "# Random effects:\n",
        "#  Groups   Name        Std.Dev.\n",
        "#  county   (Intercept) 0.3282\n",
        "#  Residual             0.7556\n",
        "# Number of obs: 919, groups:  county, 85\n",
        "# Fixed Effects:\n",
        "# (Intercept)        floor\n",
        "#       1.462       -0.693"
      ],
      "execution_count": 0,
      "outputs": []
    },
    {
      "metadata": {
        "colab_type": "text",
        "id": "n5IqiHERv91u"
      },
      "cell_type": "markdown",
      "source": [
        "The following table summarizes the results."
      ]
    },
    {
      "metadata": {
        "colab_type": "code",
        "id": "D0sUh3NNuqlw",
        "colab": {}
      },
      "cell_type": "code",
      "source": [
        "print(pd.DataFrame(data=dict(intercept=[1.462, intercept_[0]],\n",
        "                             floor=[-0.693, weights_floor_[0]],\n",
        "                             scale=[0.3282, prior_scale_]),\n",
        "                   index=['lme4', 'vi']))"
      ],
      "execution_count": 0,
      "outputs": []
    },
    {
      "metadata": {
        "colab_type": "text",
        "id": "nVjHJxVdwBXb"
      },
      "cell_type": "markdown",
      "source": [
        "This table indicates the VI results are within ~10% of `lme4`'s.  This is somewhat surprising since:\n",
        "- `lme4` is based on [Laplace's method](https://www.jstatsoft.org/article/view/v067i01/) (not VI),\n",
        "- we used mini-batch SGD,\n",
        "- no effort was made in this colab to actually converge,\n",
        "- minimal effort was made to tune hyperparameters,\n",
        "- no effort was taken regularize or preprocess the data (eg, center features, etc.)."
      ]
    },
    {
      "metadata": {
        "colab_type": "text",
        "id": "ApP0PtwYN_ah"
      },
      "cell_type": "markdown",
      "source": [
        "## Conclusion"
      ]
    },
    {
      "metadata": {
        "colab_type": "text",
        "id": "eIFHW00tOJwo"
      },
      "cell_type": "markdown",
      "source": [
        "In this colab we described Generalized Linear Mixed-effects Models and showed how to use variational inference to fit them using TensorFlow. Although the toy problem only had a few 100 training samples, the techniques used here are identical to what's needed at scale."
      ]
    }
  ]
}